{
  "cells": [
    {
      "cell_type": "markdown",
      "metadata": {
        "id": "U7i3cypWrKvB"
      },
      "source": [
        "# Question 3 – Statistics - Regression Analysis (35 marks)\n",
        "\n",
        "In this question you will perform a linear regression. You are given a dataset (housing.csv) which includes information concerning housing in the area of Boston Mass. We will investigate whether the value of a house can be predicted from the information provided. The column names and a short description is provided below:\n",
        "\n",
        "```\n",
        "Columns description:\n",
        "- CRIM - per capita crime rate by town\n",
        "- INDUS - proportion of non-retail business acres per town\n",
        "- NOX - nitric oxides concentration (parts per 10 million)\n",
        "- AGE - proportion of owner-occupied units built prior to 1940\n",
        "- DIS - weighted distances to five Boston employment centres\n",
        "- RM - average number of rooms per dwelling\n",
        "- TAX - full-value property-tax rate per 10,000\n",
        "- PTRATIO - pupil-teacher ratio by town\n",
        "- B - 1000(Bk - 0.63)^2 where Bk is the proportion of blacks by town\n",
        "- LSTAT - % lower status of the population\n",
        "- MEDV - Median value of owner-occupied homes in 1000's\n",
        "```"
      ]
    },
    {
      "cell_type": "markdown",
      "metadata": {
        "id": "bvXmHh8YrOzr"
      },
      "source": [
        "## Q3.a - Linear regression: Measure predictors(10 marks)\n",
        "Implement a function `measure_predictors(filepath)` where `filepath` is the the path to `housing.csv`. The functions should fit the model using all available features `CRIM, INDUS, NOX, AGE, DIS, RM, TAX, PTRATIO, B, LSTAT` as predictors and the value of the house, `MEDV`, as the target. After fitting the model, print the summary of the model and the predictors that can be assumed to be insignificant based on their pvalue (given $\\alpha = 0.05$)."
      ]
    },
    {
      "cell_type": "code",
      "execution_count": null,
      "metadata": {
        "id": "ZiPQDTyo8jJN"
      },
      "outputs": [],
      "source": [
        "import os\n",
        "import pandas as pd\n",
        "from statsmodels.api import OLS\n",
        "import statsmodels.api as sm\n",
        "def measure_predictors(filepath):\n",
        "\n",
        "    '''\n",
        "    This function compiles a subset of variables which are non-significant from the given data that can be used as predictors for a regression model base upon their adjusted r-squared values and p-values.\n",
        "          Parameters:\n",
        "                    filepath: the path of dataset \n",
        "                    alpha: a float value representing the level of significance for selecting the variables.\n",
        "            Returns:\n",
        "                 summary:Prints the summary of the fitted model with all the available variables and the insignificant variables which are rejected in fitting to the model.\n",
        "                 \n",
        "    '''\n",
        "    normal = os.path.normpath(filepath)\n",
        "    df = pd.read_csv(normal)\n",
        "    X = df.drop('MEDV', axis=1)\n",
        "    y = df['MEDV']\n",
        "    #Step 1(fitting the model with all the available predictor variables)\n",
        "    X_const = sm.add_constant(X)\n",
        "    model = OLS(y, X_const).fit()\n",
        "    summary=model.summary()\n",
        "    #Step 2(Removal of insignificant variables from p-values)\n",
        "    p_values = model.pvalues[1:]\n",
        "    alpha=0.05\n",
        "    max_p_value = p_values >= alpha\n",
        "    non_significant_predictors=[]\n",
        "    non_significant_predictors.append(max_p_value)\n",
        "    \n",
        "    print(summary)\n",
        "    print(non_significant_predictors)"
      ]
    },
    {
      "cell_type": "code",
      "execution_count": null,
      "metadata": {
        "id": "i4u-9mm28jJO",
        "outputId": "f2000182-e068-4d2e-e733-ad73636905c4"
      },
      "outputs": [
        {
          "name": "stdout",
          "output_type": "stream",
          "text": [
            "                            OLS Regression Results                            \n",
            "==============================================================================\n",
            "Dep. Variable:                   MEDV   R-squared:                       0.744\n",
            "Model:                            OLS   Adj. R-squared:                  0.737\n",
            "Method:                 Least Squares   F-statistic:                     111.0\n",
            "Date:                Sun, 07 Aug 2022   Prob (F-statistic):          1.25e-106\n",
            "Time:                        12:00:16   Log-Likelihood:                -1162.4\n",
            "No. Observations:                 394   AIC:                             2347.\n",
            "Df Residuals:                     383   BIC:                             2391.\n",
            "Df Model:                          10                                         \n",
            "Covariance Type:            nonrobust                                         \n",
            "==============================================================================\n",
            "                 coef    std err          t      P>|t|      [0.025      0.975]\n",
            "------------------------------------------------------------------------------\n",
            "const         26.3056      5.665      4.644      0.000      15.168      37.443\n",
            "TAX            0.0009      0.003      0.367      0.714      -0.004       0.006\n",
            "CRIM          -0.0591      0.033     -1.815      0.070      -0.123       0.005\n",
            "INDUS         -0.0539      0.065     -0.825      0.410      -0.182       0.075\n",
            "AGE           -0.0234      0.015     -1.565      0.118      -0.053       0.006\n",
            "PTRATIO       -0.9907      0.134     -7.415      0.000      -1.253      -0.728\n",
            "LSTAT         -0.4063      0.057     -7.084      0.000      -0.519      -0.294\n",
            "DIS           -1.2258      0.204     -6.016      0.000      -1.626      -0.825\n",
            "RM             4.9244      0.478     10.292      0.000       3.984       5.865\n",
            "NOX          -14.6400      4.319     -3.389      0.001     -23.133      -6.147\n",
            "B              0.0097      0.003      3.153      0.002       0.004       0.016\n",
            "==============================================================================\n",
            "Omnibus:                      187.466   Durbin-Watson:                   1.110\n",
            "Prob(Omnibus):                  0.000   Jarque-Bera (JB):             1286.999\n",
            "Skew:                           1.906   Prob(JB):                    3.40e-280\n",
            "Kurtosis:                      10.992   Cond. No.                     1.49e+04\n",
            "==============================================================================\n",
            "\n",
            "Notes:\n",
            "[1] Standard Errors assume that the covariance matrix of the errors is correctly specified.\n",
            "[2] The condition number is large, 1.49e+04. This might indicate that there are\n",
            "strong multicollinearity or other numerical problems.\n",
            "[TAX         True\n",
            "CRIM        True\n",
            "INDUS       True\n",
            "AGE         True\n",
            "PTRATIO    False\n",
            "LSTAT      False\n",
            "DIS        False\n",
            "RM         False\n",
            "NOX        False\n",
            "B          False\n",
            "dtype: bool]\n"
          ]
        }
      ],
      "source": [
        "measure_predictors('housing.csv')"
      ]
    },
    {
      "cell_type": "markdown",
      "metadata": {
        "id": "rxs7YATGiYhL"
      },
      "source": [
        "## Q3.b - Linear regression: Interaction analysis (8 marks)\n",
        "\n",
        "Implement a function `interaction_model(filename, var1, var2)` where `filepath` is the the path to `housing.csv` and `var1` and `var2` are the variables which their interaction term is included. The functions should fit the model using all available features `CRIM, INDUS, NOX, AGE, DIS, RM, TAX, PTRATIO, B, LSTA` plus the interaction term of `var1` and `var2` as predictors, and the value of the house, `MEDV`, as the target. After fitting the model, print the summary of the model. \n",
        "\n",
        "How the model's performance change when the interaction of `LSTAT` and `CRIM` is added when compared to the model of Q3.a (based on adjusted R-squared)?"
      ]
    },
    {
      "cell_type": "code",
      "execution_count": null,
      "metadata": {
        "id": "gCHQASbc8jJP"
      },
      "outputs": [],
      "source": [
        "def interaction_model(filename, var1, var2):\n",
        "    '''\n",
        "    This function adds an interaction term to the model with all the available variable features and check the model performance based on their adjusted r-squared values.After adding the interaction term there is slight change in the accuarcy compared to previous model based on adjusted R-squared.     \n",
        "            Parameters:\n",
        "                filename: the path of dataset \n",
        "                var1:the 'LSTAT' column in the original df\n",
        "                var2: the 'CRIM' column in the original df\n",
        "            Returns:\n",
        "                summary:Prints the summary of the fitted model with all the available variables plus interaction term (LSTAT*CRIM). \n",
        "                 \n",
        "     '''\n",
        "    normal = os.path.normpath(filename)\n",
        "    df = pd.read_csv(normal)\n",
        "    #Adding an interaction term and creating a series dataframe to store the column\n",
        "    int_term = var1 + \"*\" + var2\n",
        "    df1= pd.Series(df[var1] * df[var2], name=int_term)\n",
        "    #Merging the original df with the series df\n",
        "    interaction_df=df.merge(df1,left_index=True,right_index=True)\n",
        "    X = interaction_df.drop('MEDV', axis=1)\n",
        "    y = interaction_df['MEDV']\n",
        "    X_const = sm.add_constant(X)\n",
        "    #Fitting the merged df into model and compare model performance with previous function\n",
        "    int_model=OLS(y,X_const).fit()\n",
        "    summary=int_model.summary()    \n",
        "    print(summary)\n",
        "    "
      ]
    },
    {
      "cell_type": "code",
      "execution_count": null,
      "metadata": {
        "id": "dHPqrk_St3p9",
        "outputId": "a3e0bb1c-0090-4bdb-a5a8-43ab5b97431b"
      },
      "outputs": [
        {
          "name": "stdout",
          "output_type": "stream",
          "text": [
            "                            OLS Regression Results                            \n",
            "==============================================================================\n",
            "Dep. Variable:                   MEDV   R-squared:                       0.746\n",
            "Model:                            OLS   Adj. R-squared:                  0.739\n",
            "Method:                 Least Squares   F-statistic:                     101.9\n",
            "Date:                Sun, 07 Aug 2022   Prob (F-statistic):          2.38e-106\n",
            "Time:                        19:51:58   Log-Likelihood:                -1160.6\n",
            "No. Observations:                 394   AIC:                             2345.\n",
            "Df Residuals:                     382   BIC:                             2393.\n",
            "Df Model:                          11                                         \n",
            "Covariance Type:            nonrobust                                         \n",
            "==============================================================================\n",
            "                 coef    std err          t      P>|t|      [0.025      0.975]\n",
            "------------------------------------------------------------------------------\n",
            "const         26.4593      5.647      4.686      0.000      15.357      37.562\n",
            "TAX            0.0012      0.003      0.472      0.637      -0.004       0.006\n",
            "CRIM          -0.2236      0.094     -2.389      0.017      -0.408      -0.040\n",
            "INDUS         -0.0390      0.066     -0.594      0.553      -0.168       0.090\n",
            "AGE           -0.0186      0.015     -1.232      0.219      -0.048       0.011\n",
            "PTRATIO       -0.9746      0.133     -7.303      0.000      -1.237      -0.712\n",
            "LSTAT         -0.4634      0.065     -7.154      0.000      -0.591      -0.336\n",
            "DIS           -1.2055      0.203     -5.927      0.000      -1.605      -0.806\n",
            "RM             4.8732      0.478     10.201      0.000       3.934       5.812\n",
            "NOX          -14.5859      4.305     -3.388      0.001     -23.051      -6.121\n",
            "B              0.0094      0.003      3.062      0.002       0.003       0.015\n",
            "LSTAT*CRIM     0.0078      0.004      1.874      0.062      -0.000       0.016\n",
            "==============================================================================\n",
            "Omnibus:                      188.935   Durbin-Watson:                   1.097\n",
            "Prob(Omnibus):                  0.000   Jarque-Bera (JB):             1360.084\n",
            "Skew:                           1.905   Prob(JB):                    4.59e-296\n",
            "Kurtosis:                      11.266   Cond. No.                     1.52e+04\n",
            "==============================================================================\n",
            "\n",
            "Notes:\n",
            "[1] Standard Errors assume that the covariance matrix of the errors is correctly specified.\n",
            "[2] The condition number is large, 1.52e+04. This might indicate that there are\n",
            "strong multicollinearity or other numerical problems.\n"
          ]
        }
      ],
      "source": [
        "interaction_model('housing.csv', 'LSTAT', 'CRIM')"
      ]
    },
    {
      "cell_type": "markdown",
      "metadata": {
        "id": "NknLJsL1so7I"
      },
      "source": [
        "## Q3.c - Polynomial regression: Best model & house predictor(12 marks)\n",
        "\n",
        "Often the dataset provided is not linearly separable and a simple linear regression model may not be able to derive relationships between both the independent and dependent variables. In such cases, a possible solution would be to implement polynomial regression instead. Polynomial regression is a form of regression analysis in which the relationship between the independent variable x and the dependent variable y is modelled as an nth degree polynomial in x.\n",
        "\n",
        "Example: Given y the depedent variable, x<sub>1</sub>, x<sub>2</sub> the independent variables, b<sub>0</sub> the bias and b<sub>1</sub>,b<sub>2</sub>,...,b<sub>n</sub> the weights a polynomial regression of degree 2 would have the form:\n",
        "\n",
        "y = b<sub>0</sub> + b<sub>1</sub>x<sub>1</sub>  + b<sub>2</sub>x<sub>1</sub><sup>2</sup> + b<sub>3</sub>x<sub>2</sub>  + b<sub>4</sub>x<sub>2</sub><sup>2</sup>\n",
        "\n",
        "Implement a function `polynomial_model(df, indepedent_var, dependent_var, degrees)` which given a dataframe `df`, a list of columns indicating the independent variables `indepedent_var`, a string indicating the dependent variable name `dependent_var`, and a list of integers indicating the degrees to test `degrees`, will return the best fitted regression model, best Adj. R-squared score and best degree.\n",
        "\n",
        "Then, use the housing dataset, drop any features that were deemed non-significant in Q3.a, and find the degree that yields the best polynomial model (according to the adjusted R-squared metric) to predict the value of a house.\n",
        "\n"
      ]
    },
    {
      "cell_type": "code",
      "execution_count": null,
      "metadata": {
        "id": "SUa5cUlB5BNw"
      },
      "outputs": [],
      "source": [
        "def polynomial_model(df, indepedent_var, dependent_var, degrees):\n",
        "    '''\n",
        "    This function uses the  variables from the previous function to calculate all possible combinations of it and polynomial degrees to yeild the best polynomial model,adjusted r2 and best degree.\n",
        "            Parameters:\n",
        "                    df: a dataframe containing info about housing in the area of Boston Mass\n",
        "                    indepedent_var: a list of significant variables calculated from the previous fucntion based on their p-values\n",
        "                    dependent_var:  response variable for the polynomial regression model\n",
        "                    degrees: a list of integers contaning polynomial degrees to test for the best fit polynomial model\n",
        "            Returns:\n",
        "                    best_model, best_score, best_degree: the best fit polynomial model along with its degree and adjusted Rsquare values respectively.\n",
        "    '''\n",
        "\n",
        "    adj_rsq=[]\n",
        "    best_fit=[]\n",
        "    formula_list=[]\n",
        "    #Calcuting the polynomial formula and fitting the model for each degree\n",
        "    formula= \"{} ~ {}\".format(dependent_var,' + '.join(indepedent_var))\n",
        "    #Selecting best-fit polynomial model from models of all degrees\n",
        "    for i in degrees:\n",
        "        model=sm.OLS.from_formula(formula,df).fit()\n",
        "        best_fit.append(model)\n",
        "        adj_rsq.append(model.rsquared_adj)\n",
        "        for s in indepedent_var:\n",
        "            formula=formula +\" + I(\"+ s +\" ** \"+ str(i)+\")\"\n",
        "    #finding the best_degree and best score from the best fit model selected from above        \n",
        "    adj_rsq.append(model.rsquared_adj)\n",
        "    best_fit.append(model)\n",
        "    max_value =max(adj_rsq)\n",
        "    index = adj_rsq.index(max_value) \n",
        "    best_score=adj_rsq[index]\n",
        "    best_model= best_fit[index]\n",
        "    best_degree= index+1   \n",
        "    return best_model, best_score, best_degree\n",
        "  \n",
        "        "
      ]
    },
    {
      "cell_type": "code",
      "execution_count": null,
      "metadata": {
        "id": "v9ip9ZPqv2da",
        "outputId": "eeb00fa9-2799-4552-9636-443a88360d01"
      },
      "outputs": [
        {
          "name": "stdout",
          "output_type": "stream",
          "text": [
            "<statsmodels.regression.linear_model.RegressionResultsWrapper object at 0x000001C492893A30> 0.8292962957730099 6\n"
          ]
        }
      ],
      "source": [
        "# Example\n",
        "df = pd.read_csv(\"housing.csv\")\n",
        "indepedent_var = ['PTRATIO', 'LSTAT', 'DIS' , 'RM', 'NOX', 'B'] # remember to exclude potential non-significant predictors\n",
        "dependent_var = 'MEDV'\n",
        "degrees = [1,2,3,4,5,6]\n",
        "\n",
        "fitted_model, adj_rsquare, degree = polynomial_model(df, indepedent_var, dependent_var, degrees)\n",
        "print(fitted_model,adj_rsquare,degree)"
      ]
    },
    {
      "cell_type": "markdown",
      "metadata": {
        "id": "HiWlygd7s4d_"
      },
      "source": [
        "## Q3.d - Residual analysis: Plot (5 marks)\n",
        "\n",
        "Metrics such as adjusted R-square and R-square provide useful insights but they do not necessary indicate an appropriate model. Residual analysis is used to assess the appropriateness of a linear regression model by defining residuals and examining the residual plot graphs. Perform a residual analysis on the best model acquired from Question Q3.c) by plotting and interpreting the residuals vs fitted values plot. Implement a function `plot_residuals(model)` where `model` is a fitted model (in your case the one returned from `polynomial_model(df, indepedent_var, dependent_var, degrees)` function in Q3.c) that plots the residuals vs the fitted values. "
      ]
    },
    {
      "cell_type": "code",
      "execution_count": null,
      "metadata": {
        "id": "qbjFbQEb8jJQ"
      },
      "outputs": [],
      "source": [
        "import matplotlib.pyplot as plt\n",
        "import seaborn as sns\n",
        "def plot_residuals(model):\n",
        "    '''\n",
        "    This function visualises and evaluates the residual analysis to assess appropriateness of the model.\n",
        "\n",
        "            Parameters:\n",
        "                   model: the best model which is known from the previous function\n",
        "            Returns:\n",
        "                 plot:  residuals vs Fitted values is  plotted, by examining the residual plot we can predict the housing in the area of Boston Mass\n",
        "    '''\n",
        "    #Fitted values \n",
        "    model_fitted_y=model.fittedvalues\n",
        "    #plot\n",
        "    plot = sns.residplot(x=model_fitted_y, y='MEDV', data=df, lowess=True, \n",
        "                     scatter_kws={'alpha': 0.5}, \n",
        "                     line_kws={'color': 'red', 'lw': 2})\n",
        "    # Titel and labels\n",
        "    plot.set_title('Residuals vs Fitted')\n",
        "    plot.set_xlabel('Fitted values')\n",
        "    plot.set_ylabel('Residuals')\n",
        "    # your code for plotting here"
      ]
    },
    {
      "cell_type": "code",
      "execution_count": null,
      "metadata": {
        "id": "J9sjJuqU8jJR",
        "outputId": "ee9b0deb-4252-4190-f8de-aa40d770fd57"
      },
      "outputs": [
        {
          "data": {
            "image/png": "[encoded data removed]",
            "text/plain": [
              "<Figure size 432x288 with 1 Axes>"
            ]
          },
          "metadata": {
            "needs_background": "light"
          },
          "output_type": "display_data"
        }
      ],
      "source": [
        "plot_residuals(fitted_model)"
      ]
    },
    {
      "cell_type": "code",
      "execution_count": null,
      "metadata": {
        "id": "YWBgDZXw5BNz"
      },
      "outputs": [],
      "source": []
    }
  ],
  "metadata": {
    "colab": {
      "provenance": []
    },
    "kernelspec": {
      "display_name": "Python 3 (ipykernel)",
      "language": "python",
      "name": "python3"
    },
    "language_info": {
      "codemirror_mode": {
        "name": "ipython",
        "version": 3
      },
      "file_extension": ".py",
      "mimetype": "text/x-python",
      "name": "python",
      "nbconvert_exporter": "python",
      "pygments_lexer": "ipython3",
      "version": "3.9.6"
    }
  },
  "nbformat": 4,
  "nbformat_minor": 0
}